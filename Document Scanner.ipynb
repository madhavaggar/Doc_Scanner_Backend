{
 "cells": [
  {
   "cell_type": "code",
   "execution_count": 10,
   "metadata": {},
   "outputs": [],
   "source": [
    "import numpy as np\n",
    "import cv2"
   ]
  },
  {
   "cell_type": "code",
   "execution_count": 11,
   "metadata": {},
   "outputs": [],
   "source": [
    "# reorders all the points accordingly\n",
    "def rectify(corner_points):\n",
    "    corner_points = corner_points.reshape((4, 2))\n",
    "    new_points = np.zeros((4, 2), dtype=np.float32)\n",
    "    temp1 = corner_points.sum(1)\n",
    "    new_points[0] = corner_points[np.argmin(temp1)]\n",
    "    new_points[2] = corner_points[np.argmax(temp1)]\n",
    "    temp2 = np.diff(corner_points, axis=1)\n",
    "    new_points[1] = corner_points[np.argmin(temp2)]\n",
    "    new_points[3] = corner_points[np.argmax(temp2)]\n",
    "    return new_points"
   ]
  },
  {
   "cell_type": "code",
   "execution_count": 12,
   "metadata": {},
   "outputs": [],
   "source": [
    "# returns the corner points of the document, from all the possible contours\n",
    "def get_rectangle(contours):\n",
    "    contours = sorted(contours, key=cv2.contourArea, reverse=True)\n",
    "    for contour in contours:\n",
    "        p = cv2.arcLength(contour, True)\n",
    "        approx = cv2.approxPolyDP(contour, 0.02 * p, True)\n",
    "\n",
    "        if len(approx) == 4:\n",
    "            return approx"
   ]
  },
  {
   "cell_type": "code",
   "execution_count": 13,
   "metadata": {},
   "outputs": [],
   "source": [
    "# shows all required images by accepting an image array\n",
    "def show_images(images):\n",
    "    names = ([\"Initial image\", \"Scanned output, coloured\", \"Edged image\",\n",
    "              \"Scanned threshold, binary\"])\n",
    "    for i in range(len(images)):\n",
    "        cv2.imshow(names[i], images[i])\n",
    "\n",
    "    cv2.waitKey(0)\n",
    "    cv2.destroyAllWindows()"
   ]
  },
  {
   "cell_type": "code",
   "execution_count": 14,
   "metadata": {},
   "outputs": [],
   "source": [
    "# finds the binary image of the document through adaptive threshold\n",
    "def get_binary(scanned_image):\n",
    "    scanned_image_grey = cv2.cvtColor(scanned_image, cv2.COLOR_BGR2GRAY)\n",
    "    # scanned_image_grey = cv2.medianBlur(scanned_image_grey, 5)\n",
    "    scanned_image_thresh_binary = cv2.adaptiveThreshold(scanned_image_grey, 255, cv2.ADAPTIVE_THRESH_GAUSSIAN_C,\n",
    "                                                        cv2.THRESH_BINARY, 25, 5)\n",
    "    return scanned_image_thresh_binary"
   ]
  },
  {
   "cell_type": "code",
   "execution_count": 15,
   "metadata": {},
   "outputs": [],
   "source": [
    "# the main function, that calls all other functions\n",
    "def get_scanned_image(image, width, height):\n",
    "    # part 1: resizing our image\n",
    "    image = cv2.resize(image, (width, height))\n",
    "\n",
    "    # part 2: converting our image to get edges\n",
    "    grey_image = cv2.cvtColor(image, cv2.COLOR_BGR2GRAY)\n",
    "    blurred_image = cv2.GaussianBlur(grey_image, (5, 5), 0)\n",
    "    edged_image = cv2.Canny(blurred_image, 0, 50)\n",
    "\n",
    "    # part 3: finding contours in our edged image\n",
    "    contours, _ = cv2.findContours(edged_image, cv2.RETR_LIST, cv2.CHAIN_APPROX_SIMPLE)\n",
    "\n",
    "    # finding the corner points and reordering them\n",
    "    rectangle = get_rectangle(contours)\n",
    "    approx_rectangle = np.float32(rectify(rectangle))\n",
    "\n",
    "    # part 5: finding the bird's eye view of the document\n",
    "    dimensions = np.float32([[0, 0], [width, 0], [width, height], [0, height]])\n",
    "    matrix = cv2.getPerspectiveTransform(approx_rectangle, dimensions)\n",
    "    scanned_image = cv2.warpPerspective(image, matrix, (width, height))\n",
    "\n",
    "    # part 6: drawing the rectangle detected in our image\n",
    "    cv2.drawContours(image, [rectangle], -1, (0, 255, 0), 3)\n",
    "\n",
    "    # getting the binary image of the final scan\n",
    "    scanned_image_thresh_binary = get_binary(scanned_image)\n",
    "    images = ([image, scanned_image, edged_image, scanned_image_thresh_binary])\n",
    "    return images"
   ]
  },
  {
   "cell_type": "code",
   "execution_count": 16,
   "metadata": {},
   "outputs": [],
   "source": [
    "img = cv2.imread('doc4.jpeg')\n",
    "imgs = get_scanned_image(img, 600, 800)\n",
    "show_images(imgs)"
   ]
  },
  {
   "cell_type": "code",
   "execution_count": null,
   "metadata": {},
   "outputs": [],
   "source": []
  }
 ],
 "metadata": {
  "kernelspec": {
   "display_name": "Python 3",
   "language": "python",
   "name": "python3"
  },
  "language_info": {
   "codemirror_mode": {
    "name": "ipython",
    "version": 3
   },
   "file_extension": ".py",
   "mimetype": "text/x-python",
   "name": "python",
   "nbconvert_exporter": "python",
   "pygments_lexer": "ipython3",
   "version": "3.7.3"
  }
 },
 "nbformat": 4,
 "nbformat_minor": 4
}
