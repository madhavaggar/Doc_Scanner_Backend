{
 "cells": [
  {
   "cell_type": "code",
   "execution_count": 1,
   "metadata": {},
   "outputs": [],
   "source": [
    "import numpy as np\n",
    "import cv2"
   ]
  },
  {
   "cell_type": "code",
   "execution_count": 2,
   "metadata": {},
   "outputs": [],
   "source": [
    "def rectify(corner_points):\n",
    "    corner_points = corner_points.reshape((4, 2))\n",
    "    new_points = np.zeros((4, 2), dtype=np.float32)\n",
    "    temp1 = corner_points.sum(1)\n",
    "    new_points[0] = corner_points[np.argmin(temp1)]\n",
    "    new_points[2] = corner_points[np.argmax(temp1)]\n",
    "    temp2 = np.diff(corner_points, axis=1)\n",
    "    new_points[1] = corner_points[np.argmin(temp2)]\n",
    "    new_points[3] = corner_points[np.argmax(temp2)]\n",
    "    return new_points"
   ]
  },
  {
   "cell_type": "code",
   "execution_count": 3,
   "metadata": {},
   "outputs": [],
   "source": [
    "def get_rectangle(contours):\n",
    "    contours = sorted(contours, key=cv2.contourArea, reverse=True)\n",
    "    for contour in contours:\n",
    "        p = cv2.arcLength(contour, True)\n",
    "        approx = cv2.approxPolyDP(contour, 0.02 * p, True)\n",
    "\n",
    "        if len(approx) == 4:\n",
    "            return approx"
   ]
  },
  {
   "cell_type": "code",
   "execution_count": 4,
   "metadata": {},
   "outputs": [],
   "source": [
    "def show_images(scanned_image, contour_image, edged_image):\n",
    "    cv2.imshow(\"Initial image\", contour_image)\n",
    "    cv2.imshow(\"Scanned output, colored\", scanned_image)\n",
    "    cv2.imshow(\"Edged image\", edged_image)\n",
    "    grey_image = cv2.cvtColor(scanned_image, cv2.COLOR_BGR2GRAY)\n",
    "    _, binary_image = cv2.threshold(grey_image, 150, 255, cv2.THRESH_BINARY)\n",
    "    cv2.imshow(\"Binary output\", binary_image)\n",
    "    cv2.waitKey(0)\n",
    "    cv2.destroyAllWindows()"
   ]
  },
  {
   "cell_type": "code",
   "execution_count": 5,
   "metadata": {},
   "outputs": [],
   "source": [
    "def get_scanned_image(image, width, height):\n",
    "    image = cv2.resize(image, (width, height))\n",
    "    grey_image = cv2.cvtColor(image, cv2.COLOR_BGR2GRAY)\n",
    "    blurred_image = cv2.GaussianBlur(grey_image, (5, 5), 0)\n",
    "    edged_image = cv2.Canny(blurred_image, 0, 50)\n",
    "    contours, _ = cv2.findContours(edged_image, cv2.RETR_LIST, cv2.CHAIN_APPROX_SIMPLE)\n",
    "    rectangle = get_rectangle(contours)\n",
    "    approx_rectangle = rectify(rectangle)\n",
    "    dimensions = np.float32([[0, 0], [width, 0], [width, height], [0, height]])\n",
    "    matrix = cv2.getPerspectiveTransform(approx_rectangle, dimensions)\n",
    "    scanned_image = cv2.warpPerspective(image, matrix, (width, height))\n",
    "    cv2.drawContours(image, [rectangle], -1, (0, 255, 0), 3)\n",
    "    return scanned_image, image, edged_image"
   ]
  },
  {
   "cell_type": "code",
   "execution_count": 7,
   "metadata": {},
   "outputs": [],
   "source": [
    "img = cv2.imread('doc4.jpeg')\n",
    "scan, c_image, e_image = get_scanned_image(img, 600, 800)\n",
    "show_images(scan, c_image, e_image)"
   ]
  },
  {
   "cell_type": "code",
   "execution_count": null,
   "metadata": {},
   "outputs": [],
   "source": []
  }
 ],
 "metadata": {
  "kernelspec": {
   "display_name": "Python 3",
   "language": "python",
   "name": "python3"
  },
  "language_info": {
   "codemirror_mode": {
    "name": "ipython",
    "version": 3
   },
   "file_extension": ".py",
   "mimetype": "text/x-python",
   "name": "python",
   "nbconvert_exporter": "python",
   "pygments_lexer": "ipython3",
   "version": "3.7.3"
  }
 },
 "nbformat": 4,
 "nbformat_minor": 4
}
