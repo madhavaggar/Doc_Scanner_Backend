{
 "cells": [
  {
   "cell_type": "code",
   "execution_count": 1,
   "metadata": {},
   "outputs": [],
   "source": [
    "import numpy as np\n",
    "import cv2"
   ]
  },
  {
   "cell_type": "code",
   "execution_count": 2,
   "metadata": {},
   "outputs": [],
   "source": [
    "# reorders all the points accordingly\n",
    "def rectify(corner_points):\n",
    "    corner_points = corner_points.reshape((4, 2))\n",
    "    new_points = np.zeros((4, 2), dtype=np.float32)\n",
    "    temp1 = corner_points.sum(1)\n",
    "    new_points[0] = corner_points[np.argmin(temp1)]\n",
    "    new_points[2] = corner_points[np.argmax(temp1)]\n",
    "    temp2 = np.diff(corner_points, axis=1)\n",
    "    new_points[1] = corner_points[np.argmin(temp2)]\n",
    "    new_points[3] = corner_points[np.argmax(temp2)]\n",
    "    return new_points"
   ]
  },
  {
   "cell_type": "code",
   "execution_count": 3,
   "metadata": {},
   "outputs": [],
   "source": [
    "# returns the corner points of the document, from all the possible contours\n",
    "def get_rectangle(contours):\n",
    "    contours = sorted(contours, key=cv2.contourArea, reverse=True)\n",
    "    for contour in contours:\n",
    "        p = cv2.arcLength(contour, True)\n",
    "        approx = cv2.approxPolyDP(contour, 0.02 * p, True)\n",
    "\n",
    "        if len(approx) == 4:\n",
    "            return approx"
   ]
  },
  {
   "cell_type": "code",
   "execution_count": 4,
   "metadata": {},
   "outputs": [],
   "source": [
    "def show_images(images, names, save):\n",
    "    if save:\n",
    "        save_images(images, names)\n",
    "\n",
    "    for i in range(len(images)):\n",
    "        cv2.imshow(names[i], images[i])\n",
    "\n",
    "    cv2.waitKey(0)\n",
    "    cv2.destroyAllWindows()"
   ]
  },
  {
   "cell_type": "code",
   "execution_count": 5,
   "metadata": {},
   "outputs": [],
   "source": [
    "# finds the binary image of the document through adaptive threshold\n",
    "def get_binary(scanned_image, is_coloured):\n",
    "    if not is_coloured:\n",
    "        scanned_image_grey = cv2.cvtColor(scanned_image, cv2.COLOR_BGR2GRAY)\n",
    "        scanned_image_thresh_binary = cv2.adaptiveThreshold(scanned_image_grey, 255, cv2.ADAPTIVE_THRESH_GAUSSIAN_C,\n",
    "                                                            cv2.THRESH_BINARY, 25, 6)\n",
    "    else:\n",
    "        scanned_image_thresh_binary = cv2.adaptiveThreshold(scanned_image, 255, cv2.ADAPTIVE_THRESH_GAUSSIAN_C,\n",
    "                                                            cv2.THRESH_BINARY, 25, 6)\n",
    "    return scanned_image_thresh_binary"
   ]
  },
  {
   "cell_type": "code",
   "execution_count": 6,
   "metadata": {},
   "outputs": [],
   "source": [
    "# get the enhanced document image in RGB\n",
    "def get_binary_rgb(scanned_image):\n",
    "    (r, g, b) = cv2.split(scanned_image)\n",
    "    rn = get_binary(r, True)\n",
    "    gn = get_binary(g, True)\n",
    "    bn = get_binary(b, True)\n",
    "    return cv2.merge((rn, gn, bn))"
   ]
  },
  {
   "cell_type": "code",
   "execution_count": null,
   "metadata": {},
   "outputs": [],
   "source": [
    "# to save the images\n",
    "def save_images(images, names):\n",
    "    cur_dir = os.getcwd()\n",
    "    os.chdir('c:/Users/hp-2111/Desktop/output3')\n",
    "    for i in range(len(images)):\n",
    "        cv2.imwrite(names[i] + '.jpg', images[i])\n",
    "    os.chdir(str(cur_dir))"
   ]
  },
  {
   "cell_type": "code",
   "execution_count": 7,
   "metadata": {},
   "outputs": [],
   "source": [
    "# the main function, that calls all other functions\n",
    "def get_scanned_image(image):\n",
    "    # part 1: setting height and width values\n",
    "    height = image.shape[0]\n",
    "    width = image.shape[1]\n",
    "\n",
    "    # part 2: converting our image to get edges\n",
    "    grey_image = cv2.cvtColor(image, cv2.COLOR_BGR2GRAY)\n",
    "    blurred_image = cv2.GaussianBlur(grey_image, (5, 5), 0)\n",
    "    kernel = np.ones((5, 5), np.uint8)\n",
    "    edged_image = cv2.Canny(blurred_image, 50, 100)\n",
    "    edged_image = cv2.dilate(edged_image, kernel, iterations=1)\n",
    "\n",
    "    # part 3: finding contours in our edged image\n",
    "    contours, _ = cv2.findContours(edged_image, cv2.RETR_LIST, cv2.CHAIN_APPROX_SIMPLE)\n",
    "\n",
    "    # finding the corner points and reordering them\n",
    "    rectangle = get_rectangle(contours)\n",
    "    approx_rectangle = np.float32(rectify(rectangle))\n",
    "\n",
    "    # part 5: finding the bird's eye view of the document\n",
    "    dimensions = np.float32([[0, 0], [width, 0], [width, height], [0, height]])\n",
    "    matrix = cv2.getPerspectiveTransform(approx_rectangle, dimensions)\n",
    "    scanned_image = cv2.warpPerspective(image, matrix, (width, height))\n",
    "\n",
    "    # part 6: drawing the rectangle detected in our image\n",
    "    cv2.drawContours(image, [rectangle], -1, (0, 255, 0), 3)\n",
    "\n",
    "    # getting the binary image (normal and coloured) of the final scan\n",
    "    scanned_image_thresh_binary = get_binary(scanned_image, False)\n",
    "    scanned_image_thresh_coloured = get_binary_rgb(scanned_image)\n",
    "    images = ([image, scanned_image, edged_image, scanned_image_thresh_binary, scanned_image_thresh_coloured])\n",
    "    names = ([\"Initial image\", \"Scanned image\", \"Edged image\",\n",
    "              \"Scanned threshold, binary\", \"Scanned threshold, coloured\"])\n",
    "    return images, names"
   ]
  },
  {
   "cell_type": "code",
   "execution_count": 10,
   "metadata": {},
   "outputs": [],
   "source": [
    "img = cv2.imread('doc12.jpg')\n",
    "imgs, file_names = get_scanned_image(img)\n",
    "show_images(imgs, file_names, False)"
   ]
  },
  {
   "cell_type": "code",
   "execution_count": null,
   "metadata": {},
   "outputs": [],
   "source": []
  }
 ],
 "metadata": {
  "kernelspec": {
   "display_name": "Python 3",
   "language": "python",
   "name": "python3"
  },
  "language_info": {
   "codemirror_mode": {
    "name": "ipython",
    "version": 3
   },
   "file_extension": ".py",
   "mimetype": "text/x-python",
   "name": "python",
   "nbconvert_exporter": "python",
   "pygments_lexer": "ipython3",
   "version": "3.7.3"
  }
 },
 "nbformat": 4,
 "nbformat_minor": 4
}
